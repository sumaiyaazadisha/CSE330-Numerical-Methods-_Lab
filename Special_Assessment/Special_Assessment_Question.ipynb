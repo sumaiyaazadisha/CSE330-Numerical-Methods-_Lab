{
  "nbformat": 4,
  "nbformat_minor": 0,
  "metadata": {
    "colab": {
      "provenance": []
    },
    "kernelspec": {
      "name": "python3",
      "display_name": "Python 3"
    },
    "language_info": {
      "name": "python"
    }
  },
  "cells": [
    {
      "cell_type": "code",
      "source": [
        "NAME = \"\"\n",
        "ID = \"\"\n",
        "SECTION = \"\""
      ],
      "metadata": {
        "id": "zn8T6goumbr-"
      },
      "execution_count": null,
      "outputs": []
    },
    {
      "cell_type": "markdown",
      "source": [
        "# Instructions:\n",
        "\n",
        "This is your special assessment for CSE330 Lab. ***Please read the instructions carefully!***\n",
        "\n",
        "1. You must rename this file as \"ID_Name_Section_SA.ipynb\". Example: \"21212121_Niloy Farhan_01-SA.ipynb\".\n",
        "2. There are 4 tasks and each task have several substasks. This tasks are based on the content of lab 5 and lab 6.\n",
        "3. You must use designated cells for each task. You should not use additional cells for codes of a task.\n",
        "4. Some task may have no output. It will be mentioned in the designated cells.\n",
        "5. Not a single line of code of this assessment should be written by AI. If you do, karma will hit you back. ;)\n",
        "6. **Plagarism can lead to a zero mark in Final Assessment.**\n",
        "7. If you have any queries, reach out to your lab faculties.\n",
        "\n",
        "\n",
        "**Best of luck!**"
      ],
      "metadata": {
        "id": "_aXnnfYwqPoa"
      }
    },
    {
      "cell_type": "markdown",
      "source": [
        "# Task1.\n",
        "\n",
        "\n",
        "Let $f(x)$ be a function of $x$.\n",
        "\n",
        "$$f(x) = x^5 + 2.5x^4 - 2x^3 -6x^2 + x + 2\\tag{1.1}$$\n",
        "\n",
        "a. Plot the function for $$-2.5 \\le x \\le 1.5$$\n",
        "\n",
        "b. What is the actual slope of $f(x)$ at $x = 0 , -1.18625$ ?  Print $f'(x)$ and plot $f'(x)$ at $ -2 \\le x \\le 1.2$.\n",
        "\n",
        "For c to e, assume step size is $0.1$.\n",
        "\n",
        "c. Use forward differntiation to figure out the slope at $x = 0 , -1.18625$.\n",
        "\n",
        "d. Use backward differntiation to figure out the slope at $x = 0 , -1.18625$.\n",
        "\n",
        "e. Use central differntiation to figure out the slope at $x = 0 , -1.18625$.\n",
        "\n",
        "f. Compare the error of each method with actual differentiation at $x = 0 , -1.18625$ by showing in a Pandas Dataframe.\n",
        "\n",
        "g. plot error vs h curves with proper label and color for each method at $x = 0$ and $h = [0.55, 0.3, .17, 0.1, 0.055, 0.03, 0.017, 0.01]$.\n"
      ],
      "metadata": {
        "id": "TmfLGdhVGCLb"
      }
    },
    {
      "cell_type": "code",
      "execution_count": null,
      "metadata": {
        "id": "TrC8gpXl-O7B"
      },
      "outputs": [],
      "source": [
        "# Import cells. This is done for you!\n",
        "import numpy as np\n",
        "import pandas as pd\n",
        "import matplotlib.pyplot as plt\n",
        "from numpy.polynomial import Polynomial"
      ]
    },
    {
      "cell_type": "code",
      "source": [
        "#1.a This cell should plot a graph. You must use polynomial class.\n"
      ],
      "metadata": {
        "id": "kY4lHzWHmdUP"
      },
      "execution_count": null,
      "outputs": []
    },
    {
      "cell_type": "code",
      "source": [
        "#1.b This cell should print and plot a graph.\n"
      ],
      "metadata": {
        "id": "CZWHzgromwi1"
      },
      "execution_count": null,
      "outputs": []
    },
    {
      "cell_type": "code",
      "source": [
        "#1.c This cell should print\n"
      ],
      "metadata": {
        "id": "p7B6V-wKnquY"
      },
      "execution_count": null,
      "outputs": []
    },
    {
      "cell_type": "code",
      "source": [
        "#1.d This cell should print\n"
      ],
      "metadata": {
        "id": "GdhueBBBoOaJ"
      },
      "execution_count": null,
      "outputs": []
    },
    {
      "cell_type": "code",
      "source": [
        "#1.e This cell should print\n"
      ],
      "metadata": {
        "id": "V-gnhyg_pqWH"
      },
      "execution_count": null,
      "outputs": []
    },
    {
      "cell_type": "code",
      "source": [
        "#1.f This cell should show a table\n",
        "def compare(f, f_prime, h, x):\n",
        "    Result = {'x' : [], \"Actual\" : [],\"FD\": [], \"BD\" : [], \"CD\": [], \"FD Error\" : [], \"BD Error\": [], \"CD Error\" : []}     #\n",
        "    #Write code here\n",
        "\n",
        "compare(#Write code here)"
      ],
      "metadata": {
        "id": "0qo2p03Ypuj-"
      },
      "execution_count": null,
      "outputs": []
    },
    {
      "cell_type": "code",
      "source": [
        "#1g This cell should plot a graph."
      ],
      "metadata": {
        "id": "f8DTh2SBqmgv"
      },
      "execution_count": null,
      "outputs": []
    },
    {
      "cell_type": "markdown",
      "source": [
        "# Task 2.\n",
        "\n",
        "a. Propose a better technique for numerical differentiation that provides higher accuracy than the methods you have worked so far. You need to write a function for your proposed technique.\n",
        "\n",
        "Let, $$f(x) = x^5 + 2.5x^4 - 2x^3 -6x^2 + x + 2\\tag{2.1}$$\n",
        "\n",
        "b. Using your proposed method, what is the slope of $f(x)$  at $x=0,−1.18625$ and step size = 0.1?\n",
        "\n",
        "c. Compare the error of your method with  actual, forward, backward and central differentiation at  $x=0,−1.18625$  by showing in Pandas Dataframe.\n",
        "\n",
        "d. Plot actual derivative, Forward derivative, Backward derivative, Central derivative and the derivative from your proposed method in a graph. Here, $$h = 0.1, -2 \\le x \\le 1.2$$"
      ],
      "metadata": {
        "id": "LWBc_2Ees9Wd"
      }
    },
    {
      "cell_type": "code",
      "source": [
        "#2a. This cell should not have any output.\n",
        "Proposed_Method_Name = \"\"\n",
        "\n",
        "#Write Code here\n"
      ],
      "metadata": {
        "id": "VCrDKbspsoIG"
      },
      "execution_count": null,
      "outputs": []
    },
    {
      "cell_type": "code",
      "source": [
        "#2b. This cell should print\n"
      ],
      "metadata": {
        "id": "NbavEp3ru_UG"
      },
      "execution_count": null,
      "outputs": []
    },
    {
      "cell_type": "code",
      "source": [
        "#2c.This cell should print\n",
        "\n",
        "def compare1(f, f_prime, h, x):\n",
        "    Result = {'x' : [], \"Actual\" : [],\"FD\": [], \"BD\" : [], \"CD\": [],\"RE\": [], \"FD Error\" : [], \"BD Error\": [], \"CD Error\" : [], \"RE Error\" : []}\n",
        "    #Write code here\n",
        "\n",
        "\n",
        "compare1(#Write code here)"
      ],
      "metadata": {
        "id": "dEUJevMKvQe3"
      },
      "execution_count": null,
      "outputs": []
    },
    {
      "cell_type": "code",
      "source": [
        "#2.d This cell should plot a graph."
      ],
      "metadata": {
        "id": "cdNxZIucwcrf"
      },
      "execution_count": null,
      "outputs": []
    },
    {
      "cell_type": "markdown",
      "source": [
        "# Task 3.\n",
        "\n",
        "Given,\n",
        "$f(x) = \\frac{-1}{13}x^3 + 2x^2 - 9.5x - 10\\tag{3.1}$\n",
        "\n",
        "a. (i) Write a python function that takes an input function and a list of intervals as a list and returns a dictionary that contains either root exists or not in each intervals.\n",
        "Determine if root exists in $[(-20,-10),(-10,0), (0,10), (10,20), (20,30)]$.\n",
        "\n",
        "(ii) Verify your method by ploting the function and the intervals."
      ],
      "metadata": {
        "id": "QWsmG82u1nZo"
      }
    },
    {
      "cell_type": "code",
      "source": [
        "#3a_i This cell should print\n",
        "intervals = [(-20,-10),(-10,0), (0,10), (10,20), (20,30)]  #  This snippet will be given in the question\n"
      ],
      "metadata": {
        "id": "8iWVl4OjxJGa"
      },
      "execution_count": null,
      "outputs": []
    },
    {
      "cell_type": "code",
      "source": [
        "#3a_ii This cell should plot a graph.\n"
      ],
      "metadata": {
        "id": "LCP2JPKP7Zxt"
      },
      "execution_count": null,
      "outputs": []
    },
    {
      "cell_type": "markdown",
      "source": [
        "b. Using Bisection method, find roots of the function $3.1$ in these intervals $[(−20,−10),(−10,0),(0,10),(10,20),(20,30)]$ where root exists. The value of machine epsilon is, $\\epsilon < 10^{-6}$\n",
        "\n",
        "\n",
        "You can reuse the function of Task 3.a to find out the intervals that contains root.\n",
        "Note: You should return 3 different roots for the function (3.1)."
      ],
      "metadata": {
        "id": "v7HA7jGf4jdm"
      }
    },
    {
      "cell_type": "code",
      "source": [
        "#3b This cell should print\n"
      ],
      "metadata": {
        "id": "NvkxFv2Uz2Gt"
      },
      "execution_count": null,
      "outputs": []
    },
    {
      "cell_type": "markdown",
      "source": [
        "c. Plot the f(x) along with the roots to check if your method is working correctly."
      ],
      "metadata": {
        "id": "s2tJ1cZo9PTv"
      }
    },
    {
      "cell_type": "code",
      "source": [
        "#3c This cell plot a graph.\n"
      ],
      "metadata": {
        "id": "h6HbN1AE8uLZ"
      },
      "execution_count": null,
      "outputs": []
    },
    {
      "cell_type": "markdown",
      "source": [
        "Task4.\n",
        "\n",
        "\n",
        "Let $f(x)$ be a function of $x$.\n",
        "\n",
        "$$f(x) = x^5 + 2.5x^4 - 2x^3 -6x^2 + \\frac{x}{2} + 2\\tag{4.1}$$\n",
        "\n",
        "a. Find the actual roots of $f(x)$ and print them.\n",
        "\n",
        "b. Plot the function for $-2.5 \\le x \\le 1.5$, also point out the the found roots in the plot\n",
        "\n",
        "c. The following $g_{1}(x)$ is given which is derived from Eq$(4.1)$, \\\\\n",
        "   Use Contraction Mapping Theorem and calculate the value of λ for the given $g(x)$ $$g_{1}(x)= \\frac{1}{2}(-x^5 - 2.5x^4 + 2x^3 + 6x^2 - 2)\\tag{4.2}$$\n",
        "\n",
        "d. Compute the convergence/divergence table using all the calculated roots for the given $g_{1}(x)$ and prove the whole $g_{1}(x)$ is divergent\n",
        "\n",
        "Given,\n",
        "\n",
        "$$g_{2}(x)= \\sqrt{\\frac{1}{6}(x^5 + 2.5x^4 -2x^3 + \\frac{1}{2}x + 2)}\\tag{4.3}$$\n",
        "$$g_{3}(x) = \\sqrt[\\leftroot{-1}\\uproot{2}\\scriptstyle 4]{\\frac{1}{2.5}(-x^5 + 2x^3 + 6x^2 - \\frac{1}{2}x - 2)}\\tag{4.4}$$\n",
        "e. Derive 2 more separate $g_{4}(x)$ and $g_{5}(x)$ from the given $f(x)$. Implement $g_{2}(x)$, $g_{3}(x)$, $g_{4}(x)$ and $g_{5}(x)$.\n",
        "\n",
        "f. Apply Fixed Point Method on the $g_{2}(x)$, $g_{3}(x)$, $g_{4}(x)$ and $g_{5}(x)$. and find the approprate roots, show 20 iterations for each $g(x)$ for $x_{0}$ = 0.8 and show the convergence table using data from each iteration\n",
        "\n",
        "g. Plot the $g(x)$s where actual roots were found along with $f(x)$."
      ],
      "metadata": {
        "id": "SBo4zalpiLdy"
      }
    },
    {
      "cell_type": "code",
      "source": [
        "#4a This cell should print"
      ],
      "metadata": {
        "id": "CKnvJ7Y0keQv"
      },
      "execution_count": null,
      "outputs": []
    },
    {
      "cell_type": "code",
      "source": [
        "#4b This cell should print plot a graph\n"
      ],
      "metadata": {
        "id": "-Z5Sce9RiaLD"
      },
      "execution_count": null,
      "outputs": []
    },
    {
      "cell_type": "code",
      "source": [
        "#4c This cell should print\n"
      ],
      "metadata": {
        "id": "9UHjUsluibMp"
      },
      "execution_count": null,
      "outputs": []
    },
    {
      "cell_type": "code",
      "source": [
        "#4d This cell should print\n"
      ],
      "metadata": {
        "id": "bsLOeYSAjvZA"
      },
      "execution_count": null,
      "outputs": []
    },
    {
      "cell_type": "code",
      "source": [
        "#4e This cell have no outputs\n"
      ],
      "metadata": {
        "id": "alMShglbk2Uu"
      },
      "execution_count": null,
      "outputs": []
    },
    {
      "cell_type": "code",
      "source": [
        "#4f This cell should print"
      ],
      "metadata": {
        "id": "-owEz3nJj0kP"
      },
      "execution_count": null,
      "outputs": []
    },
    {
      "cell_type": "code",
      "source": [
        "#4g This cell should plot a graph. Do not plot those g(x) which will not converge."
      ],
      "metadata": {
        "id": "02AspyiEj4RY"
      },
      "execution_count": null,
      "outputs": []
    }
  ]
}